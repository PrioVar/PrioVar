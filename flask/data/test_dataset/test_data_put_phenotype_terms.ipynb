{
 "cells": [
  {
   "cell_type": "code",
   "execution_count": 9,
   "id": "initial_id",
   "metadata": {
    "collapsed": true,
    "ExecuteTime": {
     "end_time": "2024-07-13T14:35:41.320670100Z",
     "start_time": "2024-07-13T14:35:37.378141300Z"
    }
   },
   "outputs": [],
   "source": [
    "# read 564b0fac-af64-4b53-a159-4014e0b14a52.vcf using pandas\n",
    "# the row containing a single # is for headers, and the comments are lines starting with ##\n",
    "import pandas as pd\n",
    "\n",
    "df = pd.read_csv('564b0fac-af64-4b53-a159-4014e0b14a52.vcf', sep='\\t', comment='#', header=None)"
   ]
  },
  {
   "cell_type": "code",
   "execution_count": 10,
   "outputs": [
    {
     "data": {
      "text/plain": "               0  1                2                3   \\\n0  1-45508823-C-T  T  ENSG00000117450  ENST00000262746   \n1  1-45508823-C-T  T  ENSG00000117450  ENST00000319248   \n2  1-45508823-C-T  T  ENSG00000117450  ENST00000372079   \n3  1-45508823-C-T  T  ENSG00000132763  ENST00000401061   \n4  1-45508823-C-T  T  ENSG00000117450  ENST00000424390   \n\n                        4                     5       6    7  8  9   ... 15  \\\n0  downstream_gene_variant  rs757325789,CM060059   PRDX1    -  -  -  ...  -   \n1  downstream_gene_variant  rs757325789,CM060059   PRDX1  YES  -  -  ...  -   \n2  downstream_gene_variant  rs757325789,CM060059   PRDX1    -  -  -  ...  -   \n3              stop_gained  rs757325789,CM060059  MMACHC  YES  -  -  ...  -   \n4  downstream_gene_variant  rs757325789,CM060059   PRDX1    -  -  -  ...  -   \n\n                                         16                   17 18       19  \\\n0                                         -                    -  -        -   \n1                                         -                    -  -        -   \n2                                         -                    -  -        -   \n3  MMACHC|0.00|0.08|0.00|0.00|28|-27|28|-18  0.99698501190680267  -  0.94667   \n4                                         -                    -  -        -   \n\n          20 21   22   23 24  \n0          -  -    -    -  -  \n1          -  -    -    -  -  \n2          -  -    -    -  -  \n3  1.654e-05  0  .,.  .,.  -  \n4          -  -    -    -  -  \n\n[5 rows x 25 columns]",
      "text/html": "<div>\n<style scoped>\n    .dataframe tbody tr th:only-of-type {\n        vertical-align: middle;\n    }\n\n    .dataframe tbody tr th {\n        vertical-align: top;\n    }\n\n    .dataframe thead th {\n        text-align: right;\n    }\n</style>\n<table border=\"1\" class=\"dataframe\">\n  <thead>\n    <tr style=\"text-align: right;\">\n      <th></th>\n      <th>0</th>\n      <th>1</th>\n      <th>2</th>\n      <th>3</th>\n      <th>4</th>\n      <th>5</th>\n      <th>6</th>\n      <th>7</th>\n      <th>8</th>\n      <th>9</th>\n      <th>...</th>\n      <th>15</th>\n      <th>16</th>\n      <th>17</th>\n      <th>18</th>\n      <th>19</th>\n      <th>20</th>\n      <th>21</th>\n      <th>22</th>\n      <th>23</th>\n      <th>24</th>\n    </tr>\n  </thead>\n  <tbody>\n    <tr>\n      <th>0</th>\n      <td>1-45508823-C-T</td>\n      <td>T</td>\n      <td>ENSG00000117450</td>\n      <td>ENST00000262746</td>\n      <td>downstream_gene_variant</td>\n      <td>rs757325789,CM060059</td>\n      <td>PRDX1</td>\n      <td>-</td>\n      <td>-</td>\n      <td>-</td>\n      <td>...</td>\n      <td>-</td>\n      <td>-</td>\n      <td>-</td>\n      <td>-</td>\n      <td>-</td>\n      <td>-</td>\n      <td>-</td>\n      <td>-</td>\n      <td>-</td>\n      <td>-</td>\n    </tr>\n    <tr>\n      <th>1</th>\n      <td>1-45508823-C-T</td>\n      <td>T</td>\n      <td>ENSG00000117450</td>\n      <td>ENST00000319248</td>\n      <td>downstream_gene_variant</td>\n      <td>rs757325789,CM060059</td>\n      <td>PRDX1</td>\n      <td>YES</td>\n      <td>-</td>\n      <td>-</td>\n      <td>...</td>\n      <td>-</td>\n      <td>-</td>\n      <td>-</td>\n      <td>-</td>\n      <td>-</td>\n      <td>-</td>\n      <td>-</td>\n      <td>-</td>\n      <td>-</td>\n      <td>-</td>\n    </tr>\n    <tr>\n      <th>2</th>\n      <td>1-45508823-C-T</td>\n      <td>T</td>\n      <td>ENSG00000117450</td>\n      <td>ENST00000372079</td>\n      <td>downstream_gene_variant</td>\n      <td>rs757325789,CM060059</td>\n      <td>PRDX1</td>\n      <td>-</td>\n      <td>-</td>\n      <td>-</td>\n      <td>...</td>\n      <td>-</td>\n      <td>-</td>\n      <td>-</td>\n      <td>-</td>\n      <td>-</td>\n      <td>-</td>\n      <td>-</td>\n      <td>-</td>\n      <td>-</td>\n      <td>-</td>\n    </tr>\n    <tr>\n      <th>3</th>\n      <td>1-45508823-C-T</td>\n      <td>T</td>\n      <td>ENSG00000132763</td>\n      <td>ENST00000401061</td>\n      <td>stop_gained</td>\n      <td>rs757325789,CM060059</td>\n      <td>MMACHC</td>\n      <td>YES</td>\n      <td>-</td>\n      <td>-</td>\n      <td>...</td>\n      <td>-</td>\n      <td>MMACHC|0.00|0.08|0.00|0.00|28|-27|28|-18</td>\n      <td>0.99698501190680267</td>\n      <td>-</td>\n      <td>0.94667</td>\n      <td>1.654e-05</td>\n      <td>0</td>\n      <td>.,.</td>\n      <td>.,.</td>\n      <td>-</td>\n    </tr>\n    <tr>\n      <th>4</th>\n      <td>1-45508823-C-T</td>\n      <td>T</td>\n      <td>ENSG00000117450</td>\n      <td>ENST00000424390</td>\n      <td>downstream_gene_variant</td>\n      <td>rs757325789,CM060059</td>\n      <td>PRDX1</td>\n      <td>-</td>\n      <td>-</td>\n      <td>-</td>\n      <td>...</td>\n      <td>-</td>\n      <td>-</td>\n      <td>-</td>\n      <td>-</td>\n      <td>-</td>\n      <td>-</td>\n      <td>-</td>\n      <td>-</td>\n      <td>-</td>\n      <td>-</td>\n    </tr>\n  </tbody>\n</table>\n<p>5 rows × 25 columns</p>\n</div>"
     },
     "execution_count": 10,
     "metadata": {},
     "output_type": "execute_result"
    }
   ],
   "source": [
    "df.head()"
   ],
   "metadata": {
    "collapsed": false,
    "ExecuteTime": {
     "end_time": "2024-07-13T14:35:41.361347700Z",
     "start_time": "2024-07-13T14:35:41.326669400Z"
    }
   },
   "id": "f19d00f9fd6f59a9"
  },
  {
   "cell_type": "code",
   "execution_count": 11,
   "outputs": [
    {
     "data": {
      "text/plain": "1317"
     },
     "execution_count": 11,
     "metadata": {},
     "output_type": "execute_result"
    }
   ],
   "source": [
    "len(df)"
   ],
   "metadata": {
    "collapsed": false,
    "ExecuteTime": {
     "end_time": "2024-07-13T14:35:41.386089300Z",
     "start_time": "2024-07-13T14:35:41.358398900Z"
    }
   },
   "id": "42df6d428ee37254"
  },
  {
   "cell_type": "code",
   "execution_count": 19,
   "outputs": [],
   "source": [
    "# get all the unique values from the first column of df\n",
    "mutations = df[0].unique().tolist()"
   ],
   "metadata": {
    "collapsed": false,
    "ExecuteTime": {
     "end_time": "2024-07-13T14:42:33.016517Z",
     "start_time": "2024-07-13T14:42:32.976938100Z"
    }
   },
   "id": "f23c2a275ba851c1"
  },
  {
   "cell_type": "code",
   "execution_count": 20,
   "outputs": [
    {
     "data": {
      "text/plain": "48"
     },
     "execution_count": 20,
     "metadata": {},
     "output_type": "execute_result"
    }
   ],
   "source": [
    "len(mutations)"
   ],
   "metadata": {
    "collapsed": false,
    "ExecuteTime": {
     "end_time": "2024-07-13T14:42:36.045441Z",
     "start_time": "2024-07-13T14:42:36.005925Z"
    }
   },
   "id": "34fa68cecd6079d6"
  },
  {
   "cell_type": "code",
   "execution_count": 22,
   "outputs": [],
   "source": [
    "# each element of the mutations is in this format: 1-45508823-C-T\n",
    "# extract the positions into a list\n",
    "positions = [int(m.split('-')[1]) for m in mutations]"
   ],
   "metadata": {
    "collapsed": false,
    "ExecuteTime": {
     "end_time": "2024-07-13T14:56:44.135932800Z",
     "start_time": "2024-07-13T14:56:44.100444300Z"
    }
   },
   "id": "69cff897bba015d8"
  },
  {
   "cell_type": "code",
   "execution_count": 12,
   "outputs": [],
   "source": [
    "# also read infant_dataset_expanded_final.csv\n",
    "full_df = pd.read_csv('mutations_with_hpo_terms.csv')"
   ],
   "metadata": {
    "collapsed": false,
    "ExecuteTime": {
     "end_time": "2024-07-13T14:35:41.386089300Z",
     "start_time": "2024-07-13T14:35:41.368388300Z"
    }
   },
   "id": "89766ff0712f98aa"
  },
  {
   "cell_type": "code",
   "execution_count": 13,
   "outputs": [
    {
     "data": {
      "text/plain": "                                            HPO terms  \\\n0   [HP:0000568] Microphthalmos  [HP:0008538] Sens...   \n1    [HP:0004322] Short stature\\n[HP:0000316] Hype...   \n2   [HP:0010783] Erythema  [HP:0007549] Desquamati...   \n3   [HP:0010783] Erythema  [HP:0007549] Desquamati...   \n4   [HP:0010783] Erythema  [HP:0007549] Desquamati...   \n5   [HP:0010783] Erythema  [HP:0007549] Desquamati...   \n6                             [HP:0001250] Seizures\\n   \n7                             [HP:0001250] Seizures\\n   \n8   [HP:0011001] Increased bone mineral density  [...   \n9   [HP:0001263] Global developmental delay  [HP:0...   \n10  [HP:0001290] Generalized hypotonia \\n[HP:00031...   \n11  [HP:0010864] Intellectual disability, severe\\n...   \n12                             [HP:0001250]\\nSeizures   \n13  [HP:0000581] Blepharophimosis  [HP:0000414] Bu...   \n14  [HP:0001696] Situs inversus totalis\\n[HP:00059...   \n15  [HP:0001696] Situs inversus totalis\\n[HP:00059...   \n16  [HP:0000175] Cleft palate\\n[HP:0000347] Microg...   \n17  [HP:0001513] Obesity  [HP:0000098] Tall statur...   \n18  [HP:0004322] Short stature\\n[HP:0000252] Micro...   \n19  [HP:0001290] Generalized hypotonia \\n[HP:00012...   \n20  [HP:0001290] Generalized hypotonia \\n[HP:00012...   \n21  [HP:0004325] Decreased body weight \\n[HP:00043...   \n22                [HP:0004900] Severe lactic acidosis   \n23  [HP:0002659]\\nIncreased susceptibility to frac...   \n24  [HP:0100272] Branchial sinus \\n[HP:0004467] Pr...   \n25  [HP:0004322] Short stature\\n[HP:0000252] Micro...   \n26  [HP:0008538] Sensorineural hearing impairment ...   \n27  [HP:0002876] Episodic tachypnea\\n[HP:0002104] ...   \n28  [HP:0002876] Episodic tachypnea\\n[HP:0002104] ...   \n29  [HP:0008538] Sensorineural hearing impairment ...   \n30  [HP:0001263] Global developmental delay  [HP:0...   \n31  [HP:0001263] Global developmental delay  [HP:0...   \n32  [HP:0000175] Cleft palate  [HP:0008538] Sensor...   \n33  [HP:0000278] Retrognathia  [HP:0011823] Chin w...   \n34                  [HP:0005562] Multiple renal cysts   \n35  [HP:0000957] Cafe-au-lait spot \\nHP:0009601]Ap...   \n36  [HP:0002652] Skeletal dysplasia \\n[HP:0001762]...   \n37  [HP:0000485] Megalocornea  [HP:0001833]\\nLarge...   \n38  [HP:0000347] Micrognathia  [HP:0000356] Abnorm...   \n39  [HP:0000486] Strabismus  [HP:0000508] Ptosis  ...   \n40  [HP:0010919] Abnormality of cysteine metabolis...   \n41  [HP:0000347] Micrognathia  [HP:0002645] Wormia...   \n42  [HP:0001513] Obesity  [HP:0000098] Tall statur...   \n43  [HP:0000204] Cleft upper lip  [HP:0000175] Cle...   \n44  [HP:0005549] Congenital neutropenia \\n[HP:0001...   \n45  [HP:0001396] Cholestasis  [HP:0002716] Lymphad...   \n46  [HP:0001396] Cholestasis  [HP:0002716] Lymphad...   \n47  [HP:0000252] Microcephaly  [HP:0002342] Intell...   \n48  [HP:0004399] Congenital pyloric atresia \\n[HP:...   \n49  [HP:0004399] Congenital pyloric atresia \\n[HP:...   \n50  [HP:0010955] Dilatation of the bladder  [HP:01...   \n51  [HP:0011100]\\nIntestinal atresia\\n[HP:0001629]...   \n52  [HP:0000252]\\nMicrocephaly\\n[HP:0001290] Gener...   \n53  [HP:0000252]\\nMicrocephaly\\n[HP:0001290] Gener...   \n\n                      Mutation  CHROM        POS    REF ALT INFO FORMAT  \\\n0            chr3.181430628C>G   chr3  181430628      C   G    .      .   \n1            chr7.140453133T>G   chr7  140453133      T   G    .      .   \n2            chr5.147480035C>T   chr5  147480035      C   T    .      .   \n3            chr5.147503414C>T   chr5  147503414      C   T    .      .   \n4           chr11.103124071G>A  chr11  103124071      G   A    .      .   \n5           chr11.103126259T>C  chr11  103126259      T   C    .      .   \n6            chr5.125885630C>G   chr5  125885630      C   G    .      .   \n7            chr5.125887751C>G   chr5  125887751      C   G    .      .   \n8           chr11.67811109delG  chr11   67811109      G   .    .      .   \n9            chr17.42990701C>T  chr17   42990701      C   T    .      .   \n10           chrX.149767145G>T   chrX  149767145      G   T    .      .   \n11            chr1.46660525G>A   chr1   46660525      G   A    .      .   \n12           chr17.46024036G>A  chr17   46024036      G   A    .      .   \n13           chr10.76785008G>A  chr10   76785008      G   A    .      .   \n14           chr5.13753399delA   chr5   13753399      A   .    .      .   \n15            chr5.13845040A>G   chr5   13845040      A   G    .      .   \n16           chr12.48369769G>A  chr12   48369769      G   A    .      .   \n17           chr5.176710797A>T   chr5  176710797      A   T    .      .   \n18            chr5.37052555C>T   chr5   37052555      C   T    .      .   \n19            chr3.48508683G>A   chr3   48508683      G   A    .      .   \n20           chr3.48508112dupG   chr3   48508112      G  GG    .      .   \n21           chr15.91328183C>T  chr15   91328183      C   T    .      .   \n22           chr21.38309023C>G  chr21   38309023      C   G    .      .   \n23            chr7.94052377G>A   chr7   94052377      G   A    .      .   \n24            chr8.72128968C>T   chr8   72128968      C   T    .      .   \n25  chrX.71684476delCTCCAinsGT   chrX   71684476  CTCCA  GT    .      .   \n26          chr10.135184190G>A  chr10  135184190      G   A    .      .   \n27           chr14.58910876C>T  chr14   58910876      C   T    .      .   \n28          chr14.58899157delG  chr14   58899157      G   .    .      .   \n29           chr6.151726371C>G   chr6  151726371      C   G    .      .   \n30         chr2.228566952delTC   chr2  228566952     TC   .    .      .   \n31           chr2.228564094A>G   chr2  228564094      A   G    .      .   \n32           chr12.49423183C>T  chr12   49423183      C   T    .      .   \n33          chr13.101944403T>C  chr13  101944403      T   C    .      .   \n34            chr16.2144128C>T  chr16    2144128      C   T    .      .   \n35         chr12.114841599delG  chr12  114841599      G   .    .      .   \n36           chr5.149360517A>C   chr5  149360517      A   C    .      .   \n37          chrX.109963084dupA   chrX  109963084      A  AA    .      .   \n38            chr8.61655471C>T   chr8   61655471      C   T    .      .   \n39           chr16.90001643C>T  chr16   90001643      C   T    .      .   \n40            chr1.45974495C>T   chr1   45974495      C   T    .      .   \n41           chr1.120458147G>A   chr1  120458147      G   A    .      .   \n42           chr12.22065939A>G  chr12   22065939      A   G    .      .   \n43           chr1.209969821C>T   chr1  209969821      C   T    .      .   \n44           chr15.77324645G>A  chr15   77324645      G   A    .      .   \n45          chr2.191874642delT   chr2  191874642      T   .    .      .   \n46           chr1.225591106G>A   chr1  225591106      G   A    .      .   \n47           chr14.29237028G>T  chr14   29237028      G   T    .      .   \n48            chr2.47177603G>T   chr2   47177603      G   T    .      .   \n49           chr2.47233177dupC   chr2   47233177      C  CC    .      .   \n50            chr2.74140773G>A   chr2   74140773      G   A    .      .   \n51            chr2.47300955C>T   chr2   47300955      C   T    .      .   \n52           chr8.100168921C>T   chr8  100168921      C   T    .      .   \n53           chr8.100396500G>A   chr8  100396500      G   A    .      .   \n\n   Wes2450 ID QUAL FILTER  \n0        .  .    .      .  \n1        .  .    .      .  \n2        .  .    .      .  \n3        .  .    .      .  \n4        .  .    .      .  \n5        .  .    .      .  \n6        .  .    .      .  \n7        .  .    .      .  \n8        .  .    .      .  \n9        .  .    .      .  \n10       .  .    .      .  \n11       .  .    .      .  \n12       .  .    .      .  \n13       .  .    .      .  \n14       .  .    .      .  \n15       .  .    .      .  \n16       .  .    .      .  \n17       .  .    .      .  \n18       .  .    .      .  \n19       .  .    .      .  \n20       .  .    .      .  \n21       .  .    .      .  \n22       .  .    .      .  \n23       .  .    .      .  \n24       .  .    .      .  \n25       .  .    .      .  \n26       .  .    .      .  \n27       .  .    .      .  \n28       .  .    .      .  \n29       .  .    .      .  \n30       .  .    .      .  \n31       .  .    .      .  \n32       .  .    .      .  \n33       .  .    .      .  \n34       .  .    .      .  \n35       .  .    .      .  \n36       .  .    .      .  \n37       .  .    .      .  \n38       .  .    .      .  \n39       .  .    .      .  \n40       .  .    .      .  \n41       .  .    .      .  \n42       .  .    .      .  \n43       .  .    .      .  \n44       .  .    .      .  \n45       .  .    .      .  \n46       .  .    .      .  \n47       .  .    .      .  \n48       .  .    .      .  \n49       .  .    .      .  \n50       .  .    .      .  \n51       .  .    .      .  \n52       .  .    .      .  \n53       .  .    .      .  ",
      "text/html": "<div>\n<style scoped>\n    .dataframe tbody tr th:only-of-type {\n        vertical-align: middle;\n    }\n\n    .dataframe tbody tr th {\n        vertical-align: top;\n    }\n\n    .dataframe thead th {\n        text-align: right;\n    }\n</style>\n<table border=\"1\" class=\"dataframe\">\n  <thead>\n    <tr style=\"text-align: right;\">\n      <th></th>\n      <th>HPO terms</th>\n      <th>Mutation</th>\n      <th>CHROM</th>\n      <th>POS</th>\n      <th>REF</th>\n      <th>ALT</th>\n      <th>INFO</th>\n      <th>FORMAT</th>\n      <th>Wes2450</th>\n      <th>ID</th>\n      <th>QUAL</th>\n      <th>FILTER</th>\n    </tr>\n  </thead>\n  <tbody>\n    <tr>\n      <th>0</th>\n      <td>[HP:0000568] Microphthalmos  [HP:0008538] Sens...</td>\n      <td>chr3.181430628C&gt;G</td>\n      <td>chr3</td>\n      <td>181430628</td>\n      <td>C</td>\n      <td>G</td>\n      <td>.</td>\n      <td>.</td>\n      <td>.</td>\n      <td>.</td>\n      <td>.</td>\n      <td>.</td>\n    </tr>\n    <tr>\n      <th>1</th>\n      <td>[HP:0004322] Short stature\\n[HP:0000316] Hype...</td>\n      <td>chr7.140453133T&gt;G</td>\n      <td>chr7</td>\n      <td>140453133</td>\n      <td>T</td>\n      <td>G</td>\n      <td>.</td>\n      <td>.</td>\n      <td>.</td>\n      <td>.</td>\n      <td>.</td>\n      <td>.</td>\n    </tr>\n    <tr>\n      <th>2</th>\n      <td>[HP:0010783] Erythema  [HP:0007549] Desquamati...</td>\n      <td>chr5.147480035C&gt;T</td>\n      <td>chr5</td>\n      <td>147480035</td>\n      <td>C</td>\n      <td>T</td>\n      <td>.</td>\n      <td>.</td>\n      <td>.</td>\n      <td>.</td>\n      <td>.</td>\n      <td>.</td>\n    </tr>\n    <tr>\n      <th>3</th>\n      <td>[HP:0010783] Erythema  [HP:0007549] Desquamati...</td>\n      <td>chr5.147503414C&gt;T</td>\n      <td>chr5</td>\n      <td>147503414</td>\n      <td>C</td>\n      <td>T</td>\n      <td>.</td>\n      <td>.</td>\n      <td>.</td>\n      <td>.</td>\n      <td>.</td>\n      <td>.</td>\n    </tr>\n    <tr>\n      <th>4</th>\n      <td>[HP:0010783] Erythema  [HP:0007549] Desquamati...</td>\n      <td>chr11.103124071G&gt;A</td>\n      <td>chr11</td>\n      <td>103124071</td>\n      <td>G</td>\n      <td>A</td>\n      <td>.</td>\n      <td>.</td>\n      <td>.</td>\n      <td>.</td>\n      <td>.</td>\n      <td>.</td>\n    </tr>\n    <tr>\n      <th>5</th>\n      <td>[HP:0010783] Erythema  [HP:0007549] Desquamati...</td>\n      <td>chr11.103126259T&gt;C</td>\n      <td>chr11</td>\n      <td>103126259</td>\n      <td>T</td>\n      <td>C</td>\n      <td>.</td>\n      <td>.</td>\n      <td>.</td>\n      <td>.</td>\n      <td>.</td>\n      <td>.</td>\n    </tr>\n    <tr>\n      <th>6</th>\n      <td>[HP:0001250] Seizures\\n</td>\n      <td>chr5.125885630C&gt;G</td>\n      <td>chr5</td>\n      <td>125885630</td>\n      <td>C</td>\n      <td>G</td>\n      <td>.</td>\n      <td>.</td>\n      <td>.</td>\n      <td>.</td>\n      <td>.</td>\n      <td>.</td>\n    </tr>\n    <tr>\n      <th>7</th>\n      <td>[HP:0001250] Seizures\\n</td>\n      <td>chr5.125887751C&gt;G</td>\n      <td>chr5</td>\n      <td>125887751</td>\n      <td>C</td>\n      <td>G</td>\n      <td>.</td>\n      <td>.</td>\n      <td>.</td>\n      <td>.</td>\n      <td>.</td>\n      <td>.</td>\n    </tr>\n    <tr>\n      <th>8</th>\n      <td>[HP:0011001] Increased bone mineral density  [...</td>\n      <td>chr11.67811109delG</td>\n      <td>chr11</td>\n      <td>67811109</td>\n      <td>G</td>\n      <td>.</td>\n      <td>.</td>\n      <td>.</td>\n      <td>.</td>\n      <td>.</td>\n      <td>.</td>\n      <td>.</td>\n    </tr>\n    <tr>\n      <th>9</th>\n      <td>[HP:0001263] Global developmental delay  [HP:0...</td>\n      <td>chr17.42990701C&gt;T</td>\n      <td>chr17</td>\n      <td>42990701</td>\n      <td>C</td>\n      <td>T</td>\n      <td>.</td>\n      <td>.</td>\n      <td>.</td>\n      <td>.</td>\n      <td>.</td>\n      <td>.</td>\n    </tr>\n    <tr>\n      <th>10</th>\n      <td>[HP:0001290] Generalized hypotonia \\n[HP:00031...</td>\n      <td>chrX.149767145G&gt;T</td>\n      <td>chrX</td>\n      <td>149767145</td>\n      <td>G</td>\n      <td>T</td>\n      <td>.</td>\n      <td>.</td>\n      <td>.</td>\n      <td>.</td>\n      <td>.</td>\n      <td>.</td>\n    </tr>\n    <tr>\n      <th>11</th>\n      <td>[HP:0010864] Intellectual disability, severe\\n...</td>\n      <td>chr1.46660525G&gt;A</td>\n      <td>chr1</td>\n      <td>46660525</td>\n      <td>G</td>\n      <td>A</td>\n      <td>.</td>\n      <td>.</td>\n      <td>.</td>\n      <td>.</td>\n      <td>.</td>\n      <td>.</td>\n    </tr>\n    <tr>\n      <th>12</th>\n      <td>[HP:0001250]\\nSeizures</td>\n      <td>chr17.46024036G&gt;A</td>\n      <td>chr17</td>\n      <td>46024036</td>\n      <td>G</td>\n      <td>A</td>\n      <td>.</td>\n      <td>.</td>\n      <td>.</td>\n      <td>.</td>\n      <td>.</td>\n      <td>.</td>\n    </tr>\n    <tr>\n      <th>13</th>\n      <td>[HP:0000581] Blepharophimosis  [HP:0000414] Bu...</td>\n      <td>chr10.76785008G&gt;A</td>\n      <td>chr10</td>\n      <td>76785008</td>\n      <td>G</td>\n      <td>A</td>\n      <td>.</td>\n      <td>.</td>\n      <td>.</td>\n      <td>.</td>\n      <td>.</td>\n      <td>.</td>\n    </tr>\n    <tr>\n      <th>14</th>\n      <td>[HP:0001696] Situs inversus totalis\\n[HP:00059...</td>\n      <td>chr5.13753399delA</td>\n      <td>chr5</td>\n      <td>13753399</td>\n      <td>A</td>\n      <td>.</td>\n      <td>.</td>\n      <td>.</td>\n      <td>.</td>\n      <td>.</td>\n      <td>.</td>\n      <td>.</td>\n    </tr>\n    <tr>\n      <th>15</th>\n      <td>[HP:0001696] Situs inversus totalis\\n[HP:00059...</td>\n      <td>chr5.13845040A&gt;G</td>\n      <td>chr5</td>\n      <td>13845040</td>\n      <td>A</td>\n      <td>G</td>\n      <td>.</td>\n      <td>.</td>\n      <td>.</td>\n      <td>.</td>\n      <td>.</td>\n      <td>.</td>\n    </tr>\n    <tr>\n      <th>16</th>\n      <td>[HP:0000175] Cleft palate\\n[HP:0000347] Microg...</td>\n      <td>chr12.48369769G&gt;A</td>\n      <td>chr12</td>\n      <td>48369769</td>\n      <td>G</td>\n      <td>A</td>\n      <td>.</td>\n      <td>.</td>\n      <td>.</td>\n      <td>.</td>\n      <td>.</td>\n      <td>.</td>\n    </tr>\n    <tr>\n      <th>17</th>\n      <td>[HP:0001513] Obesity  [HP:0000098] Tall statur...</td>\n      <td>chr5.176710797A&gt;T</td>\n      <td>chr5</td>\n      <td>176710797</td>\n      <td>A</td>\n      <td>T</td>\n      <td>.</td>\n      <td>.</td>\n      <td>.</td>\n      <td>.</td>\n      <td>.</td>\n      <td>.</td>\n    </tr>\n    <tr>\n      <th>18</th>\n      <td>[HP:0004322] Short stature\\n[HP:0000252] Micro...</td>\n      <td>chr5.37052555C&gt;T</td>\n      <td>chr5</td>\n      <td>37052555</td>\n      <td>C</td>\n      <td>T</td>\n      <td>.</td>\n      <td>.</td>\n      <td>.</td>\n      <td>.</td>\n      <td>.</td>\n      <td>.</td>\n    </tr>\n    <tr>\n      <th>19</th>\n      <td>[HP:0001290] Generalized hypotonia \\n[HP:00012...</td>\n      <td>chr3.48508683G&gt;A</td>\n      <td>chr3</td>\n      <td>48508683</td>\n      <td>G</td>\n      <td>A</td>\n      <td>.</td>\n      <td>.</td>\n      <td>.</td>\n      <td>.</td>\n      <td>.</td>\n      <td>.</td>\n    </tr>\n    <tr>\n      <th>20</th>\n      <td>[HP:0001290] Generalized hypotonia \\n[HP:00012...</td>\n      <td>chr3.48508112dupG</td>\n      <td>chr3</td>\n      <td>48508112</td>\n      <td>G</td>\n      <td>GG</td>\n      <td>.</td>\n      <td>.</td>\n      <td>.</td>\n      <td>.</td>\n      <td>.</td>\n      <td>.</td>\n    </tr>\n    <tr>\n      <th>21</th>\n      <td>[HP:0004325] Decreased body weight \\n[HP:00043...</td>\n      <td>chr15.91328183C&gt;T</td>\n      <td>chr15</td>\n      <td>91328183</td>\n      <td>C</td>\n      <td>T</td>\n      <td>.</td>\n      <td>.</td>\n      <td>.</td>\n      <td>.</td>\n      <td>.</td>\n      <td>.</td>\n    </tr>\n    <tr>\n      <th>22</th>\n      <td>[HP:0004900] Severe lactic acidosis</td>\n      <td>chr21.38309023C&gt;G</td>\n      <td>chr21</td>\n      <td>38309023</td>\n      <td>C</td>\n      <td>G</td>\n      <td>.</td>\n      <td>.</td>\n      <td>.</td>\n      <td>.</td>\n      <td>.</td>\n      <td>.</td>\n    </tr>\n    <tr>\n      <th>23</th>\n      <td>[HP:0002659]\\nIncreased susceptibility to frac...</td>\n      <td>chr7.94052377G&gt;A</td>\n      <td>chr7</td>\n      <td>94052377</td>\n      <td>G</td>\n      <td>A</td>\n      <td>.</td>\n      <td>.</td>\n      <td>.</td>\n      <td>.</td>\n      <td>.</td>\n      <td>.</td>\n    </tr>\n    <tr>\n      <th>24</th>\n      <td>[HP:0100272] Branchial sinus \\n[HP:0004467] Pr...</td>\n      <td>chr8.72128968C&gt;T</td>\n      <td>chr8</td>\n      <td>72128968</td>\n      <td>C</td>\n      <td>T</td>\n      <td>.</td>\n      <td>.</td>\n      <td>.</td>\n      <td>.</td>\n      <td>.</td>\n      <td>.</td>\n    </tr>\n    <tr>\n      <th>25</th>\n      <td>[HP:0004322] Short stature\\n[HP:0000252] Micro...</td>\n      <td>chrX.71684476delCTCCAinsGT</td>\n      <td>chrX</td>\n      <td>71684476</td>\n      <td>CTCCA</td>\n      <td>GT</td>\n      <td>.</td>\n      <td>.</td>\n      <td>.</td>\n      <td>.</td>\n      <td>.</td>\n      <td>.</td>\n    </tr>\n    <tr>\n      <th>26</th>\n      <td>[HP:0008538] Sensorineural hearing impairment ...</td>\n      <td>chr10.135184190G&gt;A</td>\n      <td>chr10</td>\n      <td>135184190</td>\n      <td>G</td>\n      <td>A</td>\n      <td>.</td>\n      <td>.</td>\n      <td>.</td>\n      <td>.</td>\n      <td>.</td>\n      <td>.</td>\n    </tr>\n    <tr>\n      <th>27</th>\n      <td>[HP:0002876] Episodic tachypnea\\n[HP:0002104] ...</td>\n      <td>chr14.58910876C&gt;T</td>\n      <td>chr14</td>\n      <td>58910876</td>\n      <td>C</td>\n      <td>T</td>\n      <td>.</td>\n      <td>.</td>\n      <td>.</td>\n      <td>.</td>\n      <td>.</td>\n      <td>.</td>\n    </tr>\n    <tr>\n      <th>28</th>\n      <td>[HP:0002876] Episodic tachypnea\\n[HP:0002104] ...</td>\n      <td>chr14.58899157delG</td>\n      <td>chr14</td>\n      <td>58899157</td>\n      <td>G</td>\n      <td>.</td>\n      <td>.</td>\n      <td>.</td>\n      <td>.</td>\n      <td>.</td>\n      <td>.</td>\n      <td>.</td>\n    </tr>\n    <tr>\n      <th>29</th>\n      <td>[HP:0008538] Sensorineural hearing impairment ...</td>\n      <td>chr6.151726371C&gt;G</td>\n      <td>chr6</td>\n      <td>151726371</td>\n      <td>C</td>\n      <td>G</td>\n      <td>.</td>\n      <td>.</td>\n      <td>.</td>\n      <td>.</td>\n      <td>.</td>\n      <td>.</td>\n    </tr>\n    <tr>\n      <th>30</th>\n      <td>[HP:0001263] Global developmental delay  [HP:0...</td>\n      <td>chr2.228566952delTC</td>\n      <td>chr2</td>\n      <td>228566952</td>\n      <td>TC</td>\n      <td>.</td>\n      <td>.</td>\n      <td>.</td>\n      <td>.</td>\n      <td>.</td>\n      <td>.</td>\n      <td>.</td>\n    </tr>\n    <tr>\n      <th>31</th>\n      <td>[HP:0001263] Global developmental delay  [HP:0...</td>\n      <td>chr2.228564094A&gt;G</td>\n      <td>chr2</td>\n      <td>228564094</td>\n      <td>A</td>\n      <td>G</td>\n      <td>.</td>\n      <td>.</td>\n      <td>.</td>\n      <td>.</td>\n      <td>.</td>\n      <td>.</td>\n    </tr>\n    <tr>\n      <th>32</th>\n      <td>[HP:0000175] Cleft palate  [HP:0008538] Sensor...</td>\n      <td>chr12.49423183C&gt;T</td>\n      <td>chr12</td>\n      <td>49423183</td>\n      <td>C</td>\n      <td>T</td>\n      <td>.</td>\n      <td>.</td>\n      <td>.</td>\n      <td>.</td>\n      <td>.</td>\n      <td>.</td>\n    </tr>\n    <tr>\n      <th>33</th>\n      <td>[HP:0000278] Retrognathia  [HP:0011823] Chin w...</td>\n      <td>chr13.101944403T&gt;C</td>\n      <td>chr13</td>\n      <td>101944403</td>\n      <td>T</td>\n      <td>C</td>\n      <td>.</td>\n      <td>.</td>\n      <td>.</td>\n      <td>.</td>\n      <td>.</td>\n      <td>.</td>\n    </tr>\n    <tr>\n      <th>34</th>\n      <td>[HP:0005562] Multiple renal cysts</td>\n      <td>chr16.2144128C&gt;T</td>\n      <td>chr16</td>\n      <td>2144128</td>\n      <td>C</td>\n      <td>T</td>\n      <td>.</td>\n      <td>.</td>\n      <td>.</td>\n      <td>.</td>\n      <td>.</td>\n      <td>.</td>\n    </tr>\n    <tr>\n      <th>35</th>\n      <td>[HP:0000957] Cafe-au-lait spot \\nHP:0009601]Ap...</td>\n      <td>chr12.114841599delG</td>\n      <td>chr12</td>\n      <td>114841599</td>\n      <td>G</td>\n      <td>.</td>\n      <td>.</td>\n      <td>.</td>\n      <td>.</td>\n      <td>.</td>\n      <td>.</td>\n      <td>.</td>\n    </tr>\n    <tr>\n      <th>36</th>\n      <td>[HP:0002652] Skeletal dysplasia \\n[HP:0001762]...</td>\n      <td>chr5.149360517A&gt;C</td>\n      <td>chr5</td>\n      <td>149360517</td>\n      <td>A</td>\n      <td>C</td>\n      <td>.</td>\n      <td>.</td>\n      <td>.</td>\n      <td>.</td>\n      <td>.</td>\n      <td>.</td>\n    </tr>\n    <tr>\n      <th>37</th>\n      <td>[HP:0000485] Megalocornea  [HP:0001833]\\nLarge...</td>\n      <td>chrX.109963084dupA</td>\n      <td>chrX</td>\n      <td>109963084</td>\n      <td>A</td>\n      <td>AA</td>\n      <td>.</td>\n      <td>.</td>\n      <td>.</td>\n      <td>.</td>\n      <td>.</td>\n      <td>.</td>\n    </tr>\n    <tr>\n      <th>38</th>\n      <td>[HP:0000347] Micrognathia  [HP:0000356] Abnorm...</td>\n      <td>chr8.61655471C&gt;T</td>\n      <td>chr8</td>\n      <td>61655471</td>\n      <td>C</td>\n      <td>T</td>\n      <td>.</td>\n      <td>.</td>\n      <td>.</td>\n      <td>.</td>\n      <td>.</td>\n      <td>.</td>\n    </tr>\n    <tr>\n      <th>39</th>\n      <td>[HP:0000486] Strabismus  [HP:0000508] Ptosis  ...</td>\n      <td>chr16.90001643C&gt;T</td>\n      <td>chr16</td>\n      <td>90001643</td>\n      <td>C</td>\n      <td>T</td>\n      <td>.</td>\n      <td>.</td>\n      <td>.</td>\n      <td>.</td>\n      <td>.</td>\n      <td>.</td>\n    </tr>\n    <tr>\n      <th>40</th>\n      <td>[HP:0010919] Abnormality of cysteine metabolis...</td>\n      <td>chr1.45974495C&gt;T</td>\n      <td>chr1</td>\n      <td>45974495</td>\n      <td>C</td>\n      <td>T</td>\n      <td>.</td>\n      <td>.</td>\n      <td>.</td>\n      <td>.</td>\n      <td>.</td>\n      <td>.</td>\n    </tr>\n    <tr>\n      <th>41</th>\n      <td>[HP:0000347] Micrognathia  [HP:0002645] Wormia...</td>\n      <td>chr1.120458147G&gt;A</td>\n      <td>chr1</td>\n      <td>120458147</td>\n      <td>G</td>\n      <td>A</td>\n      <td>.</td>\n      <td>.</td>\n      <td>.</td>\n      <td>.</td>\n      <td>.</td>\n      <td>.</td>\n    </tr>\n    <tr>\n      <th>42</th>\n      <td>[HP:0001513] Obesity  [HP:0000098] Tall statur...</td>\n      <td>chr12.22065939A&gt;G</td>\n      <td>chr12</td>\n      <td>22065939</td>\n      <td>A</td>\n      <td>G</td>\n      <td>.</td>\n      <td>.</td>\n      <td>.</td>\n      <td>.</td>\n      <td>.</td>\n      <td>.</td>\n    </tr>\n    <tr>\n      <th>43</th>\n      <td>[HP:0000204] Cleft upper lip  [HP:0000175] Cle...</td>\n      <td>chr1.209969821C&gt;T</td>\n      <td>chr1</td>\n      <td>209969821</td>\n      <td>C</td>\n      <td>T</td>\n      <td>.</td>\n      <td>.</td>\n      <td>.</td>\n      <td>.</td>\n      <td>.</td>\n      <td>.</td>\n    </tr>\n    <tr>\n      <th>44</th>\n      <td>[HP:0005549] Congenital neutropenia \\n[HP:0001...</td>\n      <td>chr15.77324645G&gt;A</td>\n      <td>chr15</td>\n      <td>77324645</td>\n      <td>G</td>\n      <td>A</td>\n      <td>.</td>\n      <td>.</td>\n      <td>.</td>\n      <td>.</td>\n      <td>.</td>\n      <td>.</td>\n    </tr>\n    <tr>\n      <th>45</th>\n      <td>[HP:0001396] Cholestasis  [HP:0002716] Lymphad...</td>\n      <td>chr2.191874642delT</td>\n      <td>chr2</td>\n      <td>191874642</td>\n      <td>T</td>\n      <td>.</td>\n      <td>.</td>\n      <td>.</td>\n      <td>.</td>\n      <td>.</td>\n      <td>.</td>\n      <td>.</td>\n    </tr>\n    <tr>\n      <th>46</th>\n      <td>[HP:0001396] Cholestasis  [HP:0002716] Lymphad...</td>\n      <td>chr1.225591106G&gt;A</td>\n      <td>chr1</td>\n      <td>225591106</td>\n      <td>G</td>\n      <td>A</td>\n      <td>.</td>\n      <td>.</td>\n      <td>.</td>\n      <td>.</td>\n      <td>.</td>\n      <td>.</td>\n    </tr>\n    <tr>\n      <th>47</th>\n      <td>[HP:0000252] Microcephaly  [HP:0002342] Intell...</td>\n      <td>chr14.29237028G&gt;T</td>\n      <td>chr14</td>\n      <td>29237028</td>\n      <td>G</td>\n      <td>T</td>\n      <td>.</td>\n      <td>.</td>\n      <td>.</td>\n      <td>.</td>\n      <td>.</td>\n      <td>.</td>\n    </tr>\n    <tr>\n      <th>48</th>\n      <td>[HP:0004399] Congenital pyloric atresia \\n[HP:...</td>\n      <td>chr2.47177603G&gt;T</td>\n      <td>chr2</td>\n      <td>47177603</td>\n      <td>G</td>\n      <td>T</td>\n      <td>.</td>\n      <td>.</td>\n      <td>.</td>\n      <td>.</td>\n      <td>.</td>\n      <td>.</td>\n    </tr>\n    <tr>\n      <th>49</th>\n      <td>[HP:0004399] Congenital pyloric atresia \\n[HP:...</td>\n      <td>chr2.47233177dupC</td>\n      <td>chr2</td>\n      <td>47233177</td>\n      <td>C</td>\n      <td>CC</td>\n      <td>.</td>\n      <td>.</td>\n      <td>.</td>\n      <td>.</td>\n      <td>.</td>\n      <td>.</td>\n    </tr>\n    <tr>\n      <th>50</th>\n      <td>[HP:0010955] Dilatation of the bladder  [HP:01...</td>\n      <td>chr2.74140773G&gt;A</td>\n      <td>chr2</td>\n      <td>74140773</td>\n      <td>G</td>\n      <td>A</td>\n      <td>.</td>\n      <td>.</td>\n      <td>.</td>\n      <td>.</td>\n      <td>.</td>\n      <td>.</td>\n    </tr>\n    <tr>\n      <th>51</th>\n      <td>[HP:0011100]\\nIntestinal atresia\\n[HP:0001629]...</td>\n      <td>chr2.47300955C&gt;T</td>\n      <td>chr2</td>\n      <td>47300955</td>\n      <td>C</td>\n      <td>T</td>\n      <td>.</td>\n      <td>.</td>\n      <td>.</td>\n      <td>.</td>\n      <td>.</td>\n      <td>.</td>\n    </tr>\n    <tr>\n      <th>52</th>\n      <td>[HP:0000252]\\nMicrocephaly\\n[HP:0001290] Gener...</td>\n      <td>chr8.100168921C&gt;T</td>\n      <td>chr8</td>\n      <td>100168921</td>\n      <td>C</td>\n      <td>T</td>\n      <td>.</td>\n      <td>.</td>\n      <td>.</td>\n      <td>.</td>\n      <td>.</td>\n      <td>.</td>\n    </tr>\n    <tr>\n      <th>53</th>\n      <td>[HP:0000252]\\nMicrocephaly\\n[HP:0001290] Gener...</td>\n      <td>chr8.100396500G&gt;A</td>\n      <td>chr8</td>\n      <td>100396500</td>\n      <td>G</td>\n      <td>A</td>\n      <td>.</td>\n      <td>.</td>\n      <td>.</td>\n      <td>.</td>\n      <td>.</td>\n      <td>.</td>\n    </tr>\n  </tbody>\n</table>\n</div>"
     },
     "execution_count": 13,
     "metadata": {},
     "output_type": "execute_result"
    }
   ],
   "source": [
    "full_df"
   ],
   "metadata": {
    "collapsed": false,
    "ExecuteTime": {
     "end_time": "2024-07-13T14:35:41.514179200Z",
     "start_time": "2024-07-13T14:35:41.385085600Z"
    }
   },
   "id": "45ed04b671fd7ed7"
  },
  {
   "cell_type": "code",
   "execution_count": 14,
   "outputs": [
    {
     "data": {
      "text/plain": "6"
     },
     "execution_count": 14,
     "metadata": {},
     "output_type": "execute_result"
    }
   ],
   "source": [
    "# get the number of rows where ALT is equal to '.'\n",
    "len(full_df[full_df['ALT'] == '.'])"
   ],
   "metadata": {
    "collapsed": false,
    "ExecuteTime": {
     "end_time": "2024-07-13T14:35:43.332140400Z",
     "start_time": "2024-07-13T14:35:43.306367100Z"
    }
   },
   "id": "f7f0f4445dbb951a"
  },
  {
   "cell_type": "code",
   "execution_count": 15,
   "outputs": [],
   "source": [
    "# drop all the rows where ALT is equal to '.'\n",
    "full_df = full_df[full_df['ALT'] != '.']"
   ],
   "metadata": {
    "collapsed": false,
    "ExecuteTime": {
     "end_time": "2024-07-13T14:35:44.146618400Z",
     "start_time": "2024-07-13T14:35:44.130639500Z"
    }
   },
   "id": "d7428ac68f72c4e2"
  },
  {
   "cell_type": "code",
   "execution_count": 16,
   "outputs": [
    {
     "data": {
      "text/plain": "48"
     },
     "execution_count": 16,
     "metadata": {},
     "output_type": "execute_result"
    }
   ],
   "source": [
    "len(full_df)"
   ],
   "metadata": {
    "collapsed": false,
    "ExecuteTime": {
     "end_time": "2024-07-13T14:35:48.180852400Z",
     "start_time": "2024-07-13T14:35:48.145463200Z"
    }
   },
   "id": "aafe9d4aa8ee30b0"
  },
  {
   "cell_type": "code",
   "execution_count": 1,
   "outputs": [],
   "source": [
    "# read mapping_38vcf_to_37coords.txt \n",
    "# each row is in this format: 1\t45508823\t.\tC\tT\t45974495\n",
    "# Chromosome number, position in 38, REF, ALT, position in 37\n",
    "# create a dictionary that maps the position in 38 to the position in 37\n",
    "mapping = {}\n",
    "with open('mapping_38vcf_to_37coords.txt') as f:\n",
    "    for line in f:\n",
    "        line = line.strip().split('\\t')\n",
    "        mapping[int(line[1])] = int(line[5])"
   ],
   "metadata": {
    "collapsed": false,
    "ExecuteTime": {
     "end_time": "2024-07-13T14:34:24.055347Z",
     "start_time": "2024-07-13T14:34:24.036279700Z"
    }
   },
   "id": "be63658afee5fa3e"
  },
  {
   "cell_type": "code",
   "execution_count": 2,
   "outputs": [
    {
     "data": {
      "text/plain": "48"
     },
     "execution_count": 2,
     "metadata": {},
     "output_type": "execute_result"
    }
   ],
   "source": [
    "len(mapping)"
   ],
   "metadata": {
    "collapsed": false,
    "ExecuteTime": {
     "end_time": "2024-07-13T14:34:24.063305900Z",
     "start_time": "2024-07-13T14:34:24.053277300Z"
    }
   },
   "id": "366c2d29baa1ddc0"
  },
  {
   "cell_type": "code",
   "execution_count": 5,
   "outputs": [
    {
     "data": {
      "text/plain": "45974495"
     },
     "execution_count": 5,
     "metadata": {},
     "output_type": "execute_result"
    }
   ],
   "source": [
    "mapping[45508823]"
   ],
   "metadata": {
    "collapsed": false,
    "ExecuteTime": {
     "end_time": "2024-07-13T14:34:55.216734400Z",
     "start_time": "2024-07-13T14:34:55.196610800Z"
    }
   },
   "id": "d0927794749ddbb7"
  },
  {
   "cell_type": "code",
   "execution_count": 25,
   "outputs": [],
   "source": [
    "# using mapping, map the positions in the mutations list to positions in 37\n",
    "positions_37 = [mapping[p] for p in positions]"
   ],
   "metadata": {
    "collapsed": false,
    "ExecuteTime": {
     "end_time": "2024-07-13T14:58:11.768181300Z",
     "start_time": "2024-07-13T14:58:11.732336300Z"
    }
   },
   "id": "b6d9190821ac40dd"
  },
  {
   "cell_type": "code",
   "execution_count": 26,
   "outputs": [
    {
     "data": {
      "text/plain": "[45974495,\n 46660525,\n 120458147,\n 209969821,\n 225591106,\n 76785008,\n 135184190,\n 103124071,\n 103126259,\n 22065939,\n 48369769,\n 49423183,\n 101944403,\n 29237028,\n 58910876,\n 77324645,\n 91328183,\n 2144128,\n 90001643,\n 42990701,\n 46024036,\n 47177603,\n 47233177,\n 47300955,\n 74140773,\n 228564094,\n 38309023,\n 48508112,\n 48508683,\n 181430628,\n 13845040,\n 37052555,\n 125885630,\n 125887751,\n 147480035,\n 147503414,\n 149360517,\n 176710797,\n 151726371,\n 94052377,\n 140453133,\n 61655471,\n 72128968,\n 100168921,\n 100396500,\n 71684476,\n 109963084,\n 149767145]"
     },
     "execution_count": 26,
     "metadata": {},
     "output_type": "execute_result"
    }
   ],
   "source": [
    "positions_37"
   ],
   "metadata": {
    "collapsed": false,
    "ExecuteTime": {
     "end_time": "2024-07-13T14:58:14.369571700Z",
     "start_time": "2024-07-13T14:58:14.337582200Z"
    }
   },
   "id": "83c60a095a511e8a"
  },
  {
   "cell_type": "code",
   "execution_count": 28,
   "outputs": [],
   "source": [
    "# for every position in positions_37 (in its order), get the HPO terms from full_df into a list\n",
    "hpo_terms = []\n",
    "for p in positions_37:\n",
    "    hpo_terms.append(full_df[full_df['POS'] == p]['HPO terms'].values[0])"
   ],
   "metadata": {
    "collapsed": false,
    "ExecuteTime": {
     "end_time": "2024-07-13T15:01:14.750812800Z",
     "start_time": "2024-07-13T15:01:14.703455600Z"
    }
   },
   "id": "9fdbdb493fd78a6e"
  },
  {
   "cell_type": "code",
   "execution_count": 30,
   "outputs": [
    {
     "data": {
      "text/plain": "48"
     },
     "execution_count": 30,
     "metadata": {},
     "output_type": "execute_result"
    }
   ],
   "source": [
    "len(hpo_terms)"
   ],
   "metadata": {
    "collapsed": false,
    "ExecuteTime": {
     "end_time": "2024-07-13T15:01:21.787099300Z",
     "start_time": "2024-07-13T15:01:21.756098800Z"
    }
   },
   "id": "888c526198466e4"
  },
  {
   "cell_type": "code",
   "execution_count": 31,
   "outputs": [],
   "source": [
    "# save hpo_terms into a pickle file\n",
    "import pickle\n",
    "\n",
    "with open('hpo_terms.pkl', 'wb') as f:\n",
    "    pickle.dump(hpo_terms, f)"
   ],
   "metadata": {
    "collapsed": false,
    "ExecuteTime": {
     "end_time": "2024-07-13T15:01:45.782153800Z",
     "start_time": "2024-07-13T15:01:45.755542900Z"
    }
   },
   "id": "2e372e20a655a9fa"
  },
  {
   "cell_type": "code",
   "execution_count": null,
   "outputs": [],
   "source": [],
   "metadata": {
    "collapsed": false
   },
   "id": "fa83b24420f4d367"
  }
 ],
 "metadata": {
  "kernelspec": {
   "display_name": "Python 3",
   "language": "python",
   "name": "python3"
  },
  "language_info": {
   "codemirror_mode": {
    "name": "ipython",
    "version": 2
   },
   "file_extension": ".py",
   "mimetype": "text/x-python",
   "name": "python",
   "nbconvert_exporter": "python",
   "pygments_lexer": "ipython2",
   "version": "2.7.6"
  }
 },
 "nbformat": 4,
 "nbformat_minor": 5
}
