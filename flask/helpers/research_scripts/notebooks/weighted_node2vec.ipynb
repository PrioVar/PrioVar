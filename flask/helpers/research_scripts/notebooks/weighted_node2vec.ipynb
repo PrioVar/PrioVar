{
 "cells": [
  {
   "cell_type": "code",
   "execution_count": 11,
   "outputs": [],
   "source": [
    "import numpy as np\n",
    "\n",
    "from stellargraph.data import BiasedRandomWalk\n",
    "from stellargraph import StellarGraph\n",
    "from gensim.models import Word2Vec\n",
    "\n",
    "import matplotlib.pyplot as plt\n",
    "import networkx as nx\n",
    "\n",
    "%matplotlib inline"
   ],
   "metadata": {
    "collapsed": false,
    "ExecuteTime": {
     "end_time": "2024-02-21T19:05:47.707975200Z",
     "start_time": "2024-02-21T19:05:47.692664300Z"
    }
   },
   "id": "a15377ecb2ef95eb"
  },
  {
   "cell_type": "code",
   "execution_count": 12,
   "outputs": [],
   "source": [
    "walk_length = 100  # maximum length of a random walk to use throughout this notebook"
   ],
   "metadata": {
    "collapsed": false,
    "ExecuteTime": {
     "end_time": "2024-02-21T19:05:48.334757Z",
     "start_time": "2024-02-21T19:05:48.315552800Z"
    }
   },
   "id": "6090e862f5fe5f7"
  },
  {
   "cell_type": "code",
   "execution_count": 14,
   "outputs": [],
   "source": [
    "import torch\n",
    "\n",
    "def read_tensor_data(edge_index_path, edge_weight_path):\n",
    "    edge_index = torch.load(edge_index_path)\n",
    "    edge_weight = torch.load(edge_weight_path)\n",
    "    G = nx.Graph()\n",
    "    edge_set = set()\n",
    "    count = 0\n",
    "    for i in range(edge_index.size(1)):\n",
    "        src = edge_index[0, i].item()\n",
    "        dst = edge_index[1, i].item()\n",
    "        weight = edge_weight[i].item()\n",
    "        \n",
    "        # if weight is equal to 1, rescale it to 5 x 10^-5\n",
    "        if weight == 1:\n",
    "            weight = 5 * 10**-5\n",
    "        \n",
    "        # Check if the edge already exists in the set\n",
    "        if (src, dst) in edge_set:\n",
    "            # Update the weight of the existing edge with the larger weight value\n",
    "            G[src][dst][\"weight\"] = max(G[src][dst][\"weight\"], weight)\n",
    "            count += 1\n",
    "            if count % 1000 == 0:\n",
    "                print(f\"source: {src}, destination: {dst}, weight: {weight}\")\n",
    "        else:\n",
    "            # Add the edge to the graph and the set\n",
    "            G.add_edge(src, dst, weight=weight)\n",
    "            edge_set.add((src, dst))\n",
    "    return G"
   ],
   "metadata": {
    "collapsed": false,
    "ExecuteTime": {
     "end_time": "2024-02-21T19:05:49.587910200Z",
     "start_time": "2024-02-21T19:05:49.579730500Z"
    }
   },
   "id": "20f7f2afbaf0db48"
  },
  {
   "cell_type": "code",
   "execution_count": 25,
   "outputs": [
    {
     "name": "stdout",
     "output_type": "stream",
     "text": [
      "source: 674.0, destination: 22854.0, weight: 5e-05\n",
      "source: 1583.0, destination: 20234.0, weight: 5e-05\n",
      "source: 2437.0, destination: 24580.0, weight: 5e-05\n",
      "source: 3498.0, destination: 20691.0, weight: 5e-05\n",
      "source: 3764.0, destination: 19684.0, weight: 5e-05\n",
      "source: 4145.0, destination: 29418.0, weight: 5e-05\n",
      "source: 15440.0, destination: 21815.0, weight: 5e-05\n",
      "source: 5448.0, destination: 21246.0, weight: 5e-05\n",
      "source: 6056.0, destination: 21154.0, weight: 5e-05\n",
      "source: 6063.0, destination: 19970.0, weight: 5e-05\n",
      "source: 6385.0, destination: 21244.0, weight: 5e-05\n",
      "source: 6681.0, destination: 20650.0, weight: 5e-05\n",
      "source: 7047.0, destination: 21195.0, weight: 5e-05\n",
      "source: 7685.0, destination: 22695.0, weight: 5e-05\n",
      "source: 8293.0, destination: 21292.0, weight: 5e-05\n",
      "source: 8811.0, destination: 20523.0, weight: 5e-05\n",
      "source: 15710.0, destination: 21205.0, weight: 5e-05\n",
      "source: 10205.0, destination: 23404.0, weight: 5e-05\n",
      "source: 10687.0, destination: 19685.0, weight: 5e-05\n",
      "source: 11111.0, destination: 35878.0, weight: 5e-05\n",
      "source: 12170.0, destination: 20177.0, weight: 5e-05\n",
      "source: 12625.0, destination: 22791.0, weight: 5e-05\n",
      "source: 13248.0, destination: 27977.0, weight: 5e-05\n",
      "source: 13540.0, destination: 20629.0, weight: 5e-05\n",
      "source: 14077.0, destination: 22247.0, weight: 5e-05\n",
      "source: 14827.0, destination: 22172.0, weight: 5e-05\n",
      "source: 16355.0, destination: 20321.0, weight: 5e-05\n",
      "source: 15831.0, destination: 21196.0, weight: 5e-05\n",
      "source: 60.0, destination: 23650.0, weight: 5e-05\n",
      "source: 17015.0, destination: 22695.0, weight: 5e-05\n",
      "source: 18114.0, destination: 20780.0, weight: 5e-05\n",
      "source: 19068.0, destination: 20635.0, weight: 5e-05\n",
      "source: 5040.0, destination: 22325.0, weight: 5e-05\n",
      "source: 6043.0, destination: 20290.0, weight: 5e-05\n",
      "source: 17024.0, destination: 24792.0, weight: 5e-05\n",
      "source: 16893.0, destination: 20040.0, weight: 5e-05\n",
      "source: 8721.0, destination: 19970.0, weight: 5e-05\n",
      "source: 3878.0, destination: 19935.0, weight: 5e-05\n",
      "source: 5300.0, destination: 20098.0, weight: 5e-05\n",
      "source: 12600.0, destination: 20029.0, weight: 5e-05\n",
      "source: 6230.0, destination: 20265.0, weight: 5e-05\n",
      "source: 14558.0, destination: 22223.0, weight: 5e-05\n",
      "source: 11989.0, destination: 21598.0, weight: 5e-05\n",
      "source: 721.0, destination: 20029.0, weight: 5e-05\n",
      "source: 11381.0, destination: 19766.0, weight: 5e-05\n",
      "source: 1345.0, destination: 20640.0, weight: 5e-05\n",
      "source: 3046.0, destination: 28446.0, weight: 5e-05\n",
      "source: 3023.0, destination: 20414.0, weight: 5e-05\n",
      "source: 3121.0, destination: 19944.0, weight: 5e-05\n",
      "source: 3286.0, destination: 22028.0, weight: 5e-05\n",
      "source: 15967.0, destination: 23264.0, weight: 5e-05\n",
      "source: 448.0, destination: 21136.0, weight: 5e-05\n",
      "source: 14605.0, destination: 20632.0, weight: 5e-05\n"
     ]
    }
   ],
   "source": [
    "# read the tensors data/edge_index.pt and data/edge_weight.pt into a networkx graph\n",
    "G = read_tensor_data(\"../data/edge_index.pt\", \"../data/edge_weight.pt\")"
   ],
   "metadata": {
    "collapsed": false,
    "ExecuteTime": {
     "end_time": "2024-02-21T19:13:57.983611200Z",
     "start_time": "2024-02-21T19:11:20.546310500Z"
    }
   },
   "id": "16c8d4b28b21ff25"
  },
  {
   "cell_type": "code",
   "execution_count": 16,
   "outputs": [
    {
     "name": "stdout",
     "output_type": "stream",
     "text": [
      "Name: \n",
      "Type: Graph\n",
      "Number of nodes: 51681\n",
      "Number of edges: 12283287\n",
      "Average degree: 475.3502\n"
     ]
    }
   ],
   "source": [
    "# print the number of nodes and edges in the networkx graph\n",
    "print(nx.info(G))"
   ],
   "metadata": {
    "collapsed": false,
    "ExecuteTime": {
     "end_time": "2024-02-21T19:08:41.026150Z",
     "start_time": "2024-02-21T19:08:40.959810300Z"
    }
   },
   "id": "31948c6ab7c7e145"
  },
  {
   "cell_type": "code",
   "execution_count": 26,
   "outputs": [],
   "source": [
    "# create a StellarGraph object from the networkx graph\n",
    "G = StellarGraph.from_networkx(G)"
   ],
   "metadata": {
    "collapsed": false,
    "ExecuteTime": {
     "end_time": "2024-02-21T19:15:00.730859300Z",
     "start_time": "2024-02-21T19:13:58.008238500Z"
    }
   },
   "id": "ed0781ab150897a4"
  },
  {
   "cell_type": "code",
   "execution_count": 27,
   "outputs": [
    {
     "name": "stdout",
     "output_type": "stream",
     "text": [
      "StellarGraph: Undirected multigraph\n",
      " Nodes: 51681, Edges: 12283287\n",
      "\n",
      " Node types:\n",
      "  default: [51681]\n",
      "    Features: none\n",
      "    Edge types: default-default->default\n",
      "\n",
      " Edge types:\n",
      "    default-default->default: [12283287]\n",
      "        Weights: range=[1.1e-09, 0.041], mean=4.5758e-05, std=0.000151352\n",
      "        Features: none\n",
      "<class 'stellargraph.core.graph.StellarGraph'>\n"
     ]
    }
   ],
   "source": [
    "print(G.info())\n",
    "print(type(G))"
   ],
   "metadata": {
    "collapsed": false,
    "ExecuteTime": {
     "end_time": "2024-02-21T19:15:07.042206300Z",
     "start_time": "2024-02-21T19:15:00.737381900Z"
    }
   },
   "id": "9f7ff2e8840bc878"
  },
  {
   "cell_type": "code",
   "execution_count": 30,
   "outputs": [
    {
     "data": {
      "text/plain": "<Figure size 720x576 with 1 Axes>",
      "image/png": "[encoded data removed]"
     },
     "metadata": {
      "needs_background": "light"
     },
     "output_type": "display_data"
    }
   ],
   "source": [
    "_, weights = G.edges(include_edge_weight=True)\n",
    "\n",
    "wt, cnt = np.unique(weights, return_counts=True)\n",
    "\n",
    "plt.figure(figsize=(10, 8))\n",
    "plt.bar(wt, cnt, width=0.005, color=\"b\")\n",
    "plt.title(\"Edge weights histogram\")\n",
    "plt.ylabel(\"Count\")\n",
    "plt.xlabel(\"edge weights\")\n",
    "plt.xticks(np.linspace(0, 1, 10))\n",
    "\n",
    "plt.show()"
   ],
   "metadata": {
    "collapsed": false,
    "ExecuteTime": {
     "end_time": "2024-02-21T19:17:12.178556300Z",
     "start_time": "2024-02-21T19:17:08.166434Z"
    }
   },
   "id": "edebcfca84653502"
  },
  {
   "cell_type": "code",
   "execution_count": 31,
   "outputs": [],
   "source": [
    "rw = BiasedRandomWalk(G)"
   ],
   "metadata": {
    "collapsed": false,
    "ExecuteTime": {
     "end_time": "2024-02-21T19:17:25.843021400Z",
     "start_time": "2024-02-21T19:17:25.826823800Z"
    }
   },
   "id": "c10813815cde045f"
  },
  {
   "cell_type": "code",
   "execution_count": 32,
   "outputs": [
    {
     "ename": "KeyboardInterrupt",
     "evalue": "",
     "output_type": "error",
     "traceback": [
      "\u001B[1;31m---------------------------------------------------------------------------\u001B[0m",
      "\u001B[1;31mKeyboardInterrupt\u001B[0m                         Traceback (most recent call last)",
      "\u001B[1;32m<ipython-input-32-469ffa01b909>\u001B[0m in \u001B[0;36m<module>\u001B[1;34m\u001B[0m\n\u001B[0;32m      6\u001B[0m     \u001B[0mq\u001B[0m\u001B[1;33m=\u001B[0m\u001B[1;36m2.0\u001B[0m\u001B[1;33m,\u001B[0m  \u001B[1;31m# Defines (unormalised) probability, 1/q, for moving away from source node\u001B[0m\u001B[1;33m\u001B[0m\u001B[1;33m\u001B[0m\u001B[0m\n\u001B[0;32m      7\u001B[0m     \u001B[0mweighted\u001B[0m\u001B[1;33m=\u001B[0m\u001B[1;32mTrue\u001B[0m\u001B[1;33m,\u001B[0m  \u001B[1;31m# for weighted random walks\u001B[0m\u001B[1;33m\u001B[0m\u001B[1;33m\u001B[0m\u001B[0m\n\u001B[1;32m----> 8\u001B[1;33m     \u001B[0mseed\u001B[0m\u001B[1;33m=\u001B[0m\u001B[1;36m42\u001B[0m\u001B[1;33m,\u001B[0m  \u001B[1;31m# random seed fixed for reproducibility\u001B[0m\u001B[1;33m\u001B[0m\u001B[1;33m\u001B[0m\u001B[0m\n\u001B[0m\u001B[0;32m      9\u001B[0m )\n\u001B[0;32m     10\u001B[0m \u001B[0mprint\u001B[0m\u001B[1;33m(\u001B[0m\u001B[1;34m\"Number of random walks: {}\"\u001B[0m\u001B[1;33m.\u001B[0m\u001B[0mformat\u001B[0m\u001B[1;33m(\u001B[0m\u001B[0mlen\u001B[0m\u001B[1;33m(\u001B[0m\u001B[0mweighted_walks\u001B[0m\u001B[1;33m)\u001B[0m\u001B[1;33m)\u001B[0m\u001B[1;33m)\u001B[0m\u001B[1;33m\u001B[0m\u001B[1;33m\u001B[0m\u001B[0m\n",
      "\u001B[1;32m~\\miniconda3\\envs\\priovar-env-new\\lib\\site-packages\\stellargraph\\data\\explorer.py\u001B[0m in \u001B[0;36mrun\u001B[1;34m(self, nodes, n, length, p, q, seed, weighted)\u001B[0m\n\u001B[0;32m    497\u001B[0m \u001B[1;33m\u001B[0m\u001B[0m\n\u001B[0;32m    498\u001B[0m                     \u001B[0mmask\u001B[0m \u001B[1;33m=\u001B[0m \u001B[0mneighbours\u001B[0m \u001B[1;33m==\u001B[0m \u001B[0mprevious_node\u001B[0m\u001B[1;33m\u001B[0m\u001B[1;33m\u001B[0m\u001B[0m\n\u001B[1;32m--> 499\u001B[1;33m                     \u001B[0mweights\u001B[0m\u001B[1;33m[\u001B[0m\u001B[0mmask\u001B[0m\u001B[1;33m]\u001B[0m \u001B[1;33m*=\u001B[0m \u001B[0mip\u001B[0m\u001B[1;33m\u001B[0m\u001B[1;33m\u001B[0m\u001B[0m\n\u001B[0m\u001B[0;32m    500\u001B[0m                     \u001B[0mmask\u001B[0m \u001B[1;33m|=\u001B[0m \u001B[0mnp\u001B[0m\u001B[1;33m.\u001B[0m\u001B[0misin\u001B[0m\u001B[1;33m(\u001B[0m\u001B[0mneighbours\u001B[0m\u001B[1;33m,\u001B[0m \u001B[0mprevious_node_neighbours\u001B[0m\u001B[1;33m)\u001B[0m\u001B[1;33m\u001B[0m\u001B[1;33m\u001B[0m\u001B[0m\n\u001B[0;32m    501\u001B[0m                     \u001B[0mweights\u001B[0m\u001B[1;33m[\u001B[0m\u001B[1;33m~\u001B[0m\u001B[0mmask\u001B[0m\u001B[1;33m]\u001B[0m \u001B[1;33m*=\u001B[0m \u001B[0miq\u001B[0m\u001B[1;33m\u001B[0m\u001B[1;33m\u001B[0m\u001B[0m\n",
      "\u001B[1;31mKeyboardInterrupt\u001B[0m: "
     ]
    }
   ],
   "source": [
    "weighted_walks = rw.run(\n",
    "    nodes=G.nodes(),  # root nodes\n",
    "    length=walk_length,  # maximum length of a random walk\n",
    "    n=10,  # number of random walks per root node\n",
    "    p=0.5,  # Defines (unormalised) probability, 1/p, of returning to source node\n",
    "    q=2.0,  # Defines (unormalised) probability, 1/q, for moving away from source node\n",
    "    weighted=True,  # for weighted random walks\n",
    "    seed=42,  # random seed fixed for reproducibility\n",
    ")\n",
    "print(\"Number of random walks: {}\".format(len(weighted_walks)))"
   ],
   "metadata": {
    "collapsed": false,
    "ExecuteTime": {
     "end_time": "2024-02-21T20:10:29.795401100Z",
     "start_time": "2024-02-21T19:17:26.229209200Z"
    }
   },
   "id": "a11afcd81fa9d046"
  },
  {
   "cell_type": "code",
   "execution_count": null,
   "outputs": [],
   "source": [
    "weighted_model = Word2Vec(\n",
    "    weighted_walks, vector_size=128, window=5, min_count=0, sg=1, workers=1, epochs=1\n",
    ")"
   ],
   "metadata": {
    "collapsed": false,
    "ExecuteTime": {
     "end_time": "2024-02-21T20:10:29.805560700Z",
     "start_time": "2024-02-21T20:10:29.798386300Z"
    }
   },
   "id": "434ebfbd1588b4f5"
  },
  {
   "cell_type": "code",
   "execution_count": null,
   "outputs": [],
   "source": [
    "# The embedding vectors can be retrieved from model.wv using the node ID as key.\n",
    "# E.g., for node id '19231', the embedding vector is retrieved as\n",
    "emb = weighted_model.wv[\"19231\"]\n",
    "emb.shape"
   ],
   "metadata": {
    "collapsed": false,
    "ExecuteTime": {
     "start_time": "2024-02-21T20:10:29.800387800Z"
    }
   },
   "id": "ab70c922476ce117"
  },
  {
   "cell_type": "code",
   "execution_count": null,
   "outputs": [],
   "source": [
    "emb"
   ],
   "metadata": {
    "collapsed": false,
    "ExecuteTime": {
     "start_time": "2024-02-21T20:10:29.802385900Z"
    }
   },
   "id": "ac32707190d60270"
  },
  {
   "cell_type": "code",
   "execution_count": null,
   "outputs": [],
   "source": [
    "# save all embeddings into a file\n",
    "weighted_model.wv.save_word2vec_format(\"../data/node_embeddings.txt\")"
   ],
   "metadata": {
    "collapsed": false
   },
   "id": "30136755967b1819"
  }
 ],
 "metadata": {
  "kernelspec": {
   "display_name": "Python 3",
   "language": "python",
   "name": "python3"
  },
  "language_info": {
   "codemirror_mode": {
    "name": "ipython",
    "version": 2
   },
   "file_extension": ".py",
   "mimetype": "text/x-python",
   "name": "python",
   "nbconvert_exporter": "python",
   "pygments_lexer": "ipython2",
   "version": "2.7.6"
  }
 },
 "nbformat": 4,
 "nbformat_minor": 5
}
