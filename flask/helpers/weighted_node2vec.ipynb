{
 "cells": [
  {
   "cell_type": "code",
   "execution_count": 1,
   "outputs": [
    {
     "name": "stderr",
     "output_type": "stream",
     "text": [
      "C:\\Users\\HP\\miniconda3\\envs\\priovar-env-new\\lib\\site-packages\\requests\\__init__.py:104: RequestsDependencyWarning: urllib3 (1.26.18) or chardet (5.0.0)/charset_normalizer (2.0.12) doesn't match a supported version!\n",
      "  RequestsDependencyWarning)\n"
     ]
    }
   ],
   "source": [
    "from sklearn.manifold import TSNE\n",
    "from sklearn.model_selection import train_test_split\n",
    "from sklearn.linear_model import LogisticRegressionCV\n",
    "from sklearn.metrics import accuracy_score\n",
    "from sklearn.metrics.pairwise import pairwise_distances\n",
    "from sklearn import preprocessing\n",
    "\n",
    "import numpy as np\n",
    "\n",
    "from stellargraph.data import BiasedRandomWalk\n",
    "from stellargraph import StellarGraph\n",
    "\n",
    "from gensim.models import Word2Vec\n",
    "\n",
    "import warnings\n",
    "import collections\n",
    "from stellargraph import datasets\n",
    "from IPython.display import display, HTML\n",
    "import matplotlib.pyplot as plt\n",
    "import networkx as nx\n",
    "\n",
    "%matplotlib inline"
   ],
   "metadata": {
    "collapsed": false,
    "ExecuteTime": {
     "end_time": "2024-02-21T18:32:43.509089900Z",
     "start_time": "2024-02-21T18:32:38.037096300Z"
    }
   },
   "id": "a15377ecb2ef95eb"
  },
  {
   "cell_type": "code",
   "execution_count": 2,
   "outputs": [],
   "source": [
    "walk_length = 100  # maximum length of a random walk to use throughout this notebook"
   ],
   "metadata": {
    "collapsed": false,
    "ExecuteTime": {
     "end_time": "2024-02-21T18:32:43.524084500Z",
     "start_time": "2024-02-21T18:32:43.510083300Z"
    }
   },
   "id": "6090e862f5fe5f7"
  },
  {
   "cell_type": "code",
   "execution_count": 3,
   "outputs": [],
   "source": [
    "def jaccard_weights(graph, _subjects, edges):\n",
    "    sources = graph.node_features(edges.source)\n",
    "    targets = graph.node_features(edges.target)\n",
    "\n",
    "    intersection = np.logical_and(sources, targets)\n",
    "    union = np.logical_or(sources, targets)\n",
    "\n",
    "    return intersection.sum(axis=1) / union.sum(axis=1)"
   ],
   "metadata": {
    "collapsed": false,
    "ExecuteTime": {
     "end_time": "2024-02-21T18:32:43.544905Z",
     "start_time": "2024-02-21T18:32:43.526083800Z"
    }
   },
   "id": "88001b75d935c468"
  },
  {
   "cell_type": "code",
   "execution_count": 8,
   "outputs": [],
   "source": [
    "import torch\n",
    "\n",
    "def read_tensor_data(edge_index_path, edge_weight_path):\n",
    "    edge_index = torch.load(edge_index_path)\n",
    "    edge_weight = torch.load(edge_weight_path)\n",
    "    G = nx.Graph()\n",
    "    edge_set = set()\n",
    "    count = 0\n",
    "    for i in range(edge_index.size(1)):\n",
    "        src = edge_index[0, i].item()\n",
    "        dst = edge_index[1, i].item()\n",
    "        weight = edge_weight[i].item()\n",
    "        \n",
    "        # Check if the edge already exists in the set\n",
    "        if (src, dst) in edge_set:\n",
    "            # Update the weight of the existing edge with the larger weight value\n",
    "            G[src][dst][\"weight\"] = max(G[src][dst][\"weight\"], weight)\n",
    "            count += 1\n",
    "            if count % 1000 == 0:\n",
    "                print(f\"source: {src}, destination: {dst}, weight: {weight}\")\n",
    "        else:\n",
    "            # Add the edge to the graph and the set\n",
    "            G.add_edge(src, dst, weight=weight)\n",
    "            edge_set.add((src, dst))\n",
    "    return G"
   ],
   "metadata": {
    "collapsed": false,
    "ExecuteTime": {
     "end_time": "2024-02-21T18:39:21.603272Z",
     "start_time": "2024-02-21T18:39:21.591625100Z"
    }
   },
   "id": "20f7f2afbaf0db48"
  },
  {
   "cell_type": "code",
   "execution_count": 9,
   "outputs": [
    {
     "name": "stdout",
     "output_type": "stream",
     "text": [
      "source: 674.0, destination: 22854.0, weight: 1.0\n",
      "source: 1583.0, destination: 20234.0, weight: 1.0\n",
      "source: 2437.0, destination: 24580.0, weight: 1.0\n",
      "source: 3498.0, destination: 20691.0, weight: 1.0\n",
      "source: 3764.0, destination: 19684.0, weight: 1.0\n",
      "source: 4145.0, destination: 29418.0, weight: 1.0\n",
      "source: 15440.0, destination: 21815.0, weight: 1.0\n",
      "source: 5448.0, destination: 21246.0, weight: 1.0\n",
      "source: 6056.0, destination: 21154.0, weight: 1.0\n",
      "source: 6063.0, destination: 19970.0, weight: 1.0\n",
      "source: 6385.0, destination: 21244.0, weight: 1.0\n",
      "source: 6681.0, destination: 20650.0, weight: 1.0\n",
      "source: 7047.0, destination: 21195.0, weight: 1.0\n",
      "source: 7685.0, destination: 22695.0, weight: 1.0\n",
      "source: 8293.0, destination: 21292.0, weight: 1.0\n",
      "source: 8811.0, destination: 20523.0, weight: 1.0\n",
      "source: 15710.0, destination: 21205.0, weight: 1.0\n",
      "source: 10205.0, destination: 23404.0, weight: 1.0\n",
      "source: 10687.0, destination: 19685.0, weight: 1.0\n",
      "source: 11111.0, destination: 35878.0, weight: 1.0\n",
      "source: 12170.0, destination: 20177.0, weight: 1.0\n",
      "source: 12625.0, destination: 22791.0, weight: 1.0\n",
      "source: 13248.0, destination: 27977.0, weight: 1.0\n",
      "source: 13540.0, destination: 20629.0, weight: 1.0\n",
      "source: 14077.0, destination: 22247.0, weight: 1.0\n",
      "source: 14827.0, destination: 22172.0, weight: 1.0\n",
      "source: 16355.0, destination: 20321.0, weight: 1.0\n",
      "source: 15831.0, destination: 21196.0, weight: 1.0\n",
      "source: 60.0, destination: 23650.0, weight: 1.0\n",
      "source: 17015.0, destination: 22695.0, weight: 1.0\n",
      "source: 18114.0, destination: 20780.0, weight: 1.0\n",
      "source: 19068.0, destination: 20635.0, weight: 1.0\n",
      "source: 5040.0, destination: 22325.0, weight: 1.0\n",
      "source: 6043.0, destination: 20290.0, weight: 1.0\n",
      "source: 17024.0, destination: 24792.0, weight: 1.0\n",
      "source: 16893.0, destination: 20040.0, weight: 1.0\n",
      "source: 8721.0, destination: 19970.0, weight: 1.0\n",
      "source: 3878.0, destination: 19935.0, weight: 1.0\n",
      "source: 5300.0, destination: 20098.0, weight: 1.0\n",
      "source: 12600.0, destination: 20029.0, weight: 1.0\n",
      "source: 6230.0, destination: 20265.0, weight: 1.0\n",
      "source: 14558.0, destination: 22223.0, weight: 1.0\n",
      "source: 11989.0, destination: 21598.0, weight: 1.0\n",
      "source: 721.0, destination: 20029.0, weight: 1.0\n",
      "source: 11381.0, destination: 19766.0, weight: 1.0\n",
      "source: 1345.0, destination: 20640.0, weight: 1.0\n",
      "source: 3046.0, destination: 28446.0, weight: 1.0\n",
      "source: 3023.0, destination: 20414.0, weight: 1.0\n",
      "source: 3121.0, destination: 19944.0, weight: 1.0\n",
      "source: 3286.0, destination: 22028.0, weight: 1.0\n",
      "source: 15967.0, destination: 23264.0, weight: 1.0\n",
      "source: 448.0, destination: 21136.0, weight: 1.0\n",
      "source: 14605.0, destination: 20632.0, weight: 1.0\n"
     ]
    }
   ],
   "source": [
    "# read the tensors data/edge_index.pt and data/edge_weight.pt into a networkx graph\n",
    "G = read_tensor_data(\"../data/edge_index.pt\", \"../data/edge_weight.pt\")"
   ],
   "metadata": {
    "collapsed": false,
    "ExecuteTime": {
     "end_time": "2024-02-21T18:42:06.208349700Z",
     "start_time": "2024-02-21T18:39:22.264394300Z"
    }
   },
   "id": "16c8d4b28b21ff25"
  },
  {
   "cell_type": "code",
   "execution_count": 10,
   "outputs": [
    {
     "name": "stdout",
     "output_type": "stream",
     "text": [
      "Name: \n",
      "Type: Graph\n",
      "Number of nodes: 51681\n",
      "Number of edges: 12283287\n",
      "Average degree: 475.3502\n"
     ]
    }
   ],
   "source": [
    "# print the number of nodes and edges in the networkx graph\n",
    "print(nx.info(G))"
   ],
   "metadata": {
    "collapsed": false,
    "ExecuteTime": {
     "end_time": "2024-02-21T19:00:11.439863900Z",
     "start_time": "2024-02-21T19:00:11.405342Z"
    }
   },
   "id": "31948c6ab7c7e145"
  },
  {
   "cell_type": "code",
   "execution_count": 5,
   "outputs": [
    {
     "data": {
      "text/plain": "<IPython.core.display.HTML object>",
      "text/html": "The Cora dataset consists of 2708 scientific publications classified into one of seven classes. The citation network consists of 5429 links. Each publication in the dataset is described by a 0/1-valued word vector indicating the absence/presence of the corresponding word from the dictionary. The dictionary consists of 1433 unique words."
     },
     "metadata": {},
     "output_type": "display_data"
    }
   ],
   "source": [
    "dataset = datasets.Cora()\n",
    "display(HTML(dataset.description))\n",
    "G, subjects = dataset.load(\n",
    "    largest_connected_component_only=True,\n",
    "    edge_weights=jaccard_weights,\n",
    "    str_node_ids=True,  # Word2Vec requires strings, not ints\n",
    ")"
   ],
   "metadata": {
    "collapsed": false,
    "ExecuteTime": {
     "end_time": "2024-02-21T17:42:15.704130200Z",
     "start_time": "2024-02-21T17:42:15.220580200Z"
    }
   },
   "id": "639931fe708f57bf"
  },
  {
   "cell_type": "code",
   "execution_count": 6,
   "outputs": [
    {
     "name": "stdout",
     "output_type": "stream",
     "text": [
      "StellarGraph: Undirected multigraph\n",
      " Nodes: 2485, Edges: 5209\n",
      "\n",
      " Node types:\n",
      "  paper: [2485]\n",
      "    Features: float32 vector, length 1433\n",
      "    Edge types: paper-cites->paper\n",
      "\n",
      " Edge types:\n",
      "    paper-cites->paper: [5209]\n",
      "        Weights: range=[0, 1], mean=0.0946879, std=0.0918164\n",
      "        Features: none\n",
      "<class 'stellargraph.core.graph.StellarGraph'>\n"
     ]
    }
   ],
   "source": [
    "print(G.info())\n",
    "print(type(G))"
   ],
   "metadata": {
    "collapsed": false,
    "ExecuteTime": {
     "end_time": "2024-02-21T17:42:15.764519800Z",
     "start_time": "2024-02-21T17:42:15.705129900Z"
    }
   },
   "id": "9f7ff2e8840bc878"
  },
  {
   "cell_type": "code",
   "execution_count": 9,
   "outputs": [
    {
     "data": {
      "text/plain": "<Figure size 720x576 with 1 Axes>",
      "image/png": "[encoded data removed]"
     },
     "metadata": {
      "needs_background": "light"
     },
     "output_type": "display_data"
    }
   ],
   "source": [
    "_, weights = G.edges(include_edge_weight=True)\n",
    "\n",
    "wt, cnt = np.unique(weights, return_counts=True)\n",
    "\n",
    "plt.figure(figsize=(10, 8))\n",
    "plt.bar(wt, cnt, width=0.005, color=\"b\")\n",
    "plt.title(\"Edge weights histogram\")\n",
    "plt.ylabel(\"Count\")\n",
    "plt.xlabel(\"edge weights\")\n",
    "plt.xticks(np.linspace(0, 1, 10))\n",
    "\n",
    "plt.show()"
   ],
   "metadata": {
    "collapsed": false,
    "ExecuteTime": {
     "end_time": "2024-02-20T17:17:02.044758Z",
     "start_time": "2024-02-20T17:17:01.557056Z"
    }
   },
   "id": "edebcfca84653502"
  },
  {
   "cell_type": "code",
   "execution_count": 10,
   "outputs": [],
   "source": [
    "rw = BiasedRandomWalk(G)"
   ],
   "metadata": {
    "collapsed": false,
    "ExecuteTime": {
     "end_time": "2024-02-20T17:17:05.028279300Z",
     "start_time": "2024-02-20T17:17:05.001543200Z"
    }
   },
   "id": "c10813815cde045f"
  },
  {
   "cell_type": "code",
   "execution_count": 11,
   "outputs": [
    {
     "name": "stdout",
     "output_type": "stream",
     "text": [
      "Number of random walks: 24850\n"
     ]
    }
   ],
   "source": [
    "weighted_walks = rw.run(\n",
    "    nodes=G.nodes(),  # root nodes\n",
    "    length=walk_length,  # maximum length of a random walk\n",
    "    n=10,  # number of random walks per root node\n",
    "    p=0.5,  # Defines (unormalised) probability, 1/p, of returning to source node\n",
    "    q=2.0,  # Defines (unormalised) probability, 1/q, for moving away from source node\n",
    "    weighted=True,  # for weighted random walks\n",
    "    seed=42,  # random seed fixed for reproducibility\n",
    ")\n",
    "print(\"Number of random walks: {}\".format(len(weighted_walks)))"
   ],
   "metadata": {
    "collapsed": false,
    "ExecuteTime": {
     "end_time": "2024-02-20T17:19:09.505599300Z",
     "start_time": "2024-02-20T17:17:07.054390600Z"
    }
   },
   "id": "a11afcd81fa9d046"
  },
  {
   "cell_type": "code",
   "execution_count": 13,
   "outputs": [],
   "source": [
    "weighted_model = Word2Vec(\n",
    "    weighted_walks, vector_size=128, window=5, min_count=0, sg=1, workers=1, epochs=1\n",
    ")"
   ],
   "metadata": {
    "collapsed": false,
    "ExecuteTime": {
     "end_time": "2024-02-20T17:21:02.254009800Z",
     "start_time": "2024-02-20T17:20:51.811467700Z"
    }
   },
   "id": "434ebfbd1588b4f5"
  },
  {
   "cell_type": "code",
   "execution_count": 14,
   "outputs": [
    {
     "data": {
      "text/plain": "(128,)"
     },
     "execution_count": 14,
     "metadata": {},
     "output_type": "execute_result"
    }
   ],
   "source": [
    "# The embedding vectors can be retrieved from model.wv using the node ID as key.\n",
    "# E.g., for node id '19231', the embedding vector is retrieved as\n",
    "emb = weighted_model.wv[\"19231\"]\n",
    "emb.shape"
   ],
   "metadata": {
    "collapsed": false,
    "ExecuteTime": {
     "end_time": "2024-02-20T17:21:03.831855900Z",
     "start_time": "2024-02-20T17:21:03.814073500Z"
    }
   },
   "id": "ab70c922476ce117"
  },
  {
   "cell_type": "code",
   "execution_count": 15,
   "outputs": [
    {
     "data": {
      "text/plain": "array([-0.4041692 ,  0.58450395, -0.2850358 , -0.44010586, -0.03451179,\n        0.0928195 ,  0.10425624, -0.35619432,  0.31116167, -0.06148972,\n        0.58837354, -0.06228484,  0.22448531, -0.70150685, -0.84479785,\n       -0.33806005, -0.7915061 ,  0.30241784, -0.5347174 , -0.00888136,\n       -0.09656193, -0.35961953, -0.5523206 , -0.05735344, -0.05256036,\n       -0.13239701,  0.03944539, -0.01399144,  0.02144285, -0.36483812,\n        0.19567104, -0.44615927,  0.4828628 , -0.1265296 ,  0.4197108 ,\n       -0.4258617 , -1.0224453 , -0.15074706, -0.2913872 ,  0.0967893 ,\n       -0.27512968,  0.11957007, -0.3697544 , -0.12684067,  0.64048964,\n        0.24666576, -0.06103071,  0.2709596 ,  0.65753144,  0.6544483 ,\n       -0.05133858,  0.37203005, -0.25478846, -0.26202852,  0.13787399,\n        0.38488853,  0.6607594 ,  0.5878839 ,  0.11139845,  0.22540945,\n       -0.36035073,  0.00535654, -0.56702477, -0.07164809,  0.17911482,\n       -0.07258621,  0.21970978,  0.30902085, -0.5850942 ,  0.63291556,\n       -0.1895767 , -0.08408744,  0.20420723, -1.0886712 ,  0.2199476 ,\n       -0.18570146,  0.05356034,  0.28329706,  0.27001983, -0.02203137,\n        0.34663042,  0.11272836,  0.14864968, -0.44468328, -0.31243616,\n       -0.3191428 ,  0.06167284,  0.01107702, -0.09699419,  0.3965654 ,\n        0.24742268, -0.76348776, -0.02083984, -0.06717884, -0.5180677 ,\n       -0.20364457, -1.0912992 , -0.37229258,  0.03127416, -0.86686516,\n       -1.0265268 ,  0.20323852, -0.33439025,  0.1021769 ,  0.599424  ,\n       -0.29177472, -0.42195034, -0.7280545 ,  0.88493526, -0.25225624,\n        0.24888317, -0.11639567, -0.00591776, -0.58276176, -0.01164377,\n       -0.48853743, -0.35959357, -0.45523357, -0.47945303,  0.26484075,\n       -0.11914441, -0.12177296,  0.32335302, -0.42356136, -0.17201997,\n       -0.01134233, -0.08141881,  0.9164539 ], dtype=float32)"
     },
     "execution_count": 15,
     "metadata": {},
     "output_type": "execute_result"
    }
   ],
   "source": [
    "emb"
   ],
   "metadata": {
    "collapsed": false,
    "ExecuteTime": {
     "end_time": "2024-02-20T17:21:44.892738600Z",
     "start_time": "2024-02-20T17:21:44.853793Z"
    }
   },
   "id": "ac32707190d60270"
  },
  {
   "cell_type": "code",
   "execution_count": null,
   "outputs": [],
   "source": [],
   "metadata": {
    "collapsed": false
   },
   "id": "30136755967b1819"
  }
 ],
 "metadata": {
  "kernelspec": {
   "display_name": "Python 3",
   "language": "python",
   "name": "python3"
  },
  "language_info": {
   "codemirror_mode": {
    "name": "ipython",
    "version": 2
   },
   "file_extension": ".py",
   "mimetype": "text/x-python",
   "name": "python",
   "nbconvert_exporter": "python",
   "pygments_lexer": "ipython2",
   "version": "2.7.6"
  }
 },
 "nbformat": 4,
 "nbformat_minor": 5
}
